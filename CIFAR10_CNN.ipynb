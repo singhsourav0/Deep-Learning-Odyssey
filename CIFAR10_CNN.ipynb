{
  "cells": [
    {
      "cell_type": "markdown",
      "metadata": {
        "id": "view-in-github",
        "colab_type": "text"
      },
      "source": [
        "<a href=\"https://colab.research.google.com/github/singhsourav0/Deep-Learning-Odyssey/blob/main/CIFAR10_CNN.ipynb\" target=\"_parent\"><img src=\"https://colab.research.google.com/assets/colab-badge.svg\" alt=\"Open In Colab\"/></a>"
      ]
    },
    {
      "cell_type": "markdown",
      "source": [
        "<!DOCTYPE html>\n",
        "<html lang=\"en\">\n",
        "<head>\n",
        "<meta charset=\"UTF-8\">\n",
        "<meta name=\"viewport\" content=\"width=device-width, initial-scale=1.0\">\n",
        "<title>Image Classification Using Convolutional Neural Networks</title>\n",
        "<style>\n",
        "  body {\n",
        "    font-family: Arial, sans-serif;\n",
        "  }\n",
        "  .container {\n",
        "    max-width: 800px;\n",
        "    margin: auto;\n",
        "    padding: 20px;\n",
        "    background-color: #f5f5dc; /* clay color */\n",
        "    border-radius: 10px;\n",
        "  }\n",
        "  h1 {\n",
        "    color: #8b4513; /* saddle brown color */\n",
        "  }\n",
        "  p {\n",
        "    color: #696969; /* dim gray color */\n",
        "  }\n",
        "</style>\n",
        "</head>\n",
        "<body>\n",
        "\n",
        "<div class=\"container\">\n",
        "  <h1>Image Classification Using Convolutional Neural Networks</h1>\n",
        "  <p>In this Notebook, we will demonstrate how to perform image classification using the CIFAR-10 dataset in TensorFlow. We will begin by training a model using a simple Artificial Neural Network (ANN) and then compare its performance with a Convolutional Neural Network (CNN).</p>\n",
        "  <p>First, we will train a model with an ANN to establish a baseline accuracy. Then, we will implement a CNN and observe how its performance improves over the ANN model. This tutorial aims to provide insights into why CNNs are preferred over ANNs for image classification tasks.</p>\n",
        "  <h2>Instructions:</h2>\n",
        "  <ol>\n",
        "    <li>Load the CIFAR-10 dataset.</li>\n",
        "    <li>Preprocess the data.</li>\n",
        "    <li>Construct a simple ANN model and train it on the dataset.</li>\n",
        "    <li>Evaluate the performance of the ANN model.</li>\n",
        "    <li>Build a CNN model and train it on the same dataset.</li>\n",
        "    <li>Compare the accuracy of the CNN model with the ANN model.</li>\n",
        "  </ol>\n",
        "  <p>By following these steps, you will gain a better understanding of the advantages of using CNNs for image classification tasks.</p>\n",
        "</div>\n",
        "\n",
        "</body>\n",
        "</html>\n"
      ],
      "metadata": {
        "id": "gJaodXkp0DWT"
      }
    },
    {
      "cell_type": "code",
      "execution_count": 5,
      "metadata": {
        "id": "c03j4HM7Lslb"
      },
      "outputs": [],
      "source": [
        "import tensorflow as tf\n",
        "from tensorflow.keras import datasets, layers, models\n",
        "import matplotlib.pyplot as plt\n",
        "import numpy as np"
      ]
    },
    {
      "cell_type": "code",
      "execution_count": 6,
      "metadata": {
        "id": "o6MZaX7dWjY7",
        "colab": {
          "base_uri": "https://localhost:8080/"
        },
        "outputId": "b7bc7e33-b553-4023-e9cf-5a5bb887b0e8"
      },
      "outputs": [
        {
          "output_type": "stream",
          "name": "stdout",
          "text": [
            "Downloading data from https://www.cs.toronto.edu/~kriz/cifar-10-python.tar.gz\n",
            "170498071/170498071 [==============================] - 3s 0us/step\n"
          ]
        }
      ],
      "source": [
        "(x_train, y_train),(x_test,y_test)= datasets.cifar10.load_data()"
      ]
    },
    {
      "cell_type": "code",
      "source": [],
      "metadata": {
        "id": "fQvzYrWi1qlG"
      },
      "execution_count": null,
      "outputs": []
    },
    {
      "cell_type": "code",
      "source": [
        "x_train.shape"
      ],
      "metadata": {
        "colab": {
          "base_uri": "https://localhost:8080/"
        },
        "id": "aqfHPaIerWrA",
        "outputId": "2d466ea1-2a94-4c92-d954-502ab7afe2fd"
      },
      "execution_count": 7,
      "outputs": [
        {
          "output_type": "execute_result",
          "data": {
            "text/plain": [
              "(50000, 32, 32, 3)"
            ]
          },
          "metadata": {},
          "execution_count": 7
        }
      ]
    },
    {
      "cell_type": "code",
      "source": [
        "x_test.shape"
      ],
      "metadata": {
        "colab": {
          "base_uri": "https://localhost:8080/"
        },
        "id": "wPRVBEpFr5g7",
        "outputId": "bc90e530-a73d-4e2b-9d26-9be51e5fa9cf"
      },
      "execution_count": 8,
      "outputs": [
        {
          "output_type": "execute_result",
          "data": {
            "text/plain": [
              "(10000, 32, 32, 3)"
            ]
          },
          "metadata": {},
          "execution_count": 8
        }
      ]
    },
    {
      "cell_type": "code",
      "source": [
        "plt.imshow(x_train[0])"
      ],
      "metadata": {
        "colab": {
          "base_uri": "https://localhost:8080/",
          "height": 447
        },
        "id": "KIm38LF3r7vF",
        "outputId": "7ed2d095-aefc-49f9-ce90-e0398fc1afd1"
      },
      "execution_count": 11,
      "outputs": [
        {
          "output_type": "execute_result",
          "data": {
            "text/plain": [
              "<matplotlib.image.AxesImage at 0x799707fa4700>"
            ]
          },
          "metadata": {},
          "execution_count": 11
        },
        {
          "output_type": "display_data",
          "data": {
            "text/plain": [
              "<Figure size 640x480 with 1 Axes>"
            ],
            "image/png": "[encoded data removed]"
          },
          "metadata": {}
        }
      ]
    },
    {
      "cell_type": "code",
      "source": [
        "y_train[:5]"
      ],
      "metadata": {
        "colab": {
          "base_uri": "https://localhost:8080/"
        },
        "id": "ixEkXVhhvduP",
        "outputId": "43bb4447-86c4-4818-e8a8-15c99b9ab9ae"
      },
      "execution_count": 12,
      "outputs": [
        {
          "output_type": "execute_result",
          "data": {
            "text/plain": [
              "array([[6],\n",
              "       [9],\n",
              "       [9],\n",
              "       [4],\n",
              "       [1]], dtype=uint8)"
            ]
          },
          "metadata": {},
          "execution_count": 12
        }
      ]
    },
    {
      "cell_type": "code",
      "source": [
        "y_train = y_train.reshape(-1,)\n",
        "y_train[:5]"
      ],
      "metadata": {
        "colab": {
          "base_uri": "https://localhost:8080/"
        },
        "id": "TsOlBdIMsDVh",
        "outputId": "ed7d946a-0e2b-4092-c5ff-6259950c545b"
      },
      "execution_count": 13,
      "outputs": [
        {
          "output_type": "execute_result",
          "data": {
            "text/plain": [
              "array([6, 9, 9, 4, 1], dtype=uint8)"
            ]
          },
          "metadata": {},
          "execution_count": 13
        }
      ]
    },
    {
      "cell_type": "code",
      "source": [
        "\n",
        "y_test = y_test.reshape(-1,)"
      ],
      "metadata": {
        "id": "FpfJ4Vocviet"
      },
      "execution_count": 14,
      "outputs": []
    },
    {
      "cell_type": "code",
      "source": [
        "classes = [\"airplane\",\"automobile\",\"bird\",\"cat\",\"deer\",\"dog\",\"frog\",\"horse\",\"ship\",\"truck\"]"
      ],
      "metadata": {
        "id": "14YlX_A1vm-t"
      },
      "execution_count": 15,
      "outputs": []
    },
    {
      "cell_type": "code",
      "source": [
        "def plot_sample(X, y, index):\n",
        "    plt.figure(figsize = (15,2))\n",
        "    plt.imshow(X[index])\n",
        "    plt.xlabel(classes[y[index]])"
      ],
      "metadata": {
        "id": "sjKyEe_7vqHQ"
      },
      "execution_count": 16,
      "outputs": []
    },
    {
      "cell_type": "code",
      "source": [
        "plot_sample(x_train, y_train, 0)"
      ],
      "metadata": {
        "colab": {
          "base_uri": "https://localhost:8080/",
          "height": 237
        },
        "id": "PqR9tkXevs6d",
        "outputId": "df3302e7-9a66-458a-e578-0c69f859592c"
      },
      "execution_count": 18,
      "outputs": [
        {
          "output_type": "display_data",
          "data": {
            "text/plain": [
              "<Figure size 1500x200 with 1 Axes>"
            ],
            "image/png": "[encoded data removed]"
          },
          "metadata": {}
        }
      ]
    },
    {
      "cell_type": "code",
      "source": [
        "plot_sample(x_train, y_train, 1)"
      ],
      "metadata": {
        "colab": {
          "base_uri": "https://localhost:8080/",
          "height": 237
        },
        "id": "J5f8gt9Bv15b",
        "outputId": "86f12974-bf1b-4fe7-998f-7ebb581d0982"
      },
      "execution_count": 20,
      "outputs": [
        {
          "output_type": "display_data",
          "data": {
            "text/plain": [
              "<Figure size 1500x200 with 1 Axes>"
            ],
            "image/png": "[encoded data removed]"
          },
          "metadata": {}
        }
      ]
    },
    {
      "cell_type": "code",
      "source": [],
      "metadata": {
        "id": "hHapojQ2v82s"
      },
      "execution_count": null,
      "outputs": []
    },
    {
      "cell_type": "markdown",
      "source": [
        "normalizing the data into 0 to 1 and the image is in rgb . so the range of number of element in matrices is from 0 to 255 .so we will divide all no from 255\n"
      ],
      "metadata": {
        "id": "vU3n3vNOwEGv"
      }
    },
    {
      "cell_type": "code",
      "source": [
        "X_train = x_train / 255.0\n",
        "X_test = x_test / 255.0"
      ],
      "metadata": {
        "id": "cksnl1o0wZnX"
      },
      "execution_count": 22,
      "outputs": []
    },
    {
      "cell_type": "markdown",
      "source": [
        "first we build ANN model to check our model accuracy just for knowledge check"
      ],
      "metadata": {
        "id": "Y606PH6HwiC8"
      }
    },
    {
      "cell_type": "code",
      "source": [
        "ann = models.Sequential([\n",
        "        layers.Flatten(input_shape=(32,32,3)),\n",
        "        layers.Dense(3000, activation='relu'),\n",
        "        layers.Dense(1000, activation='relu'),\n",
        "        layers.Dense(10, activation='softmax')\n",
        "    ])\n",
        "\n",
        "ann.compile(optimizer='SGD',\n",
        "              loss='sparse_categorical_crossentropy',\n",
        "              metrics=['accuracy'])\n",
        "\n",
        "ann.fit(X_train, y_train, epochs=5)"
      ],
      "metadata": {
        "colab": {
          "base_uri": "https://localhost:8080/"
        },
        "id": "Pf4bi9ViwaIl",
        "outputId": "14b42fa9-df7f-418f-b51b-b1ab8a3a3395"
      },
      "execution_count": 23,
      "outputs": [
        {
          "output_type": "stream",
          "name": "stdout",
          "text": [
            "Epoch 1/5\n",
            "1563/1563 [==============================] - 157s 100ms/step - loss: 1.8103 - accuracy: 0.3546\n",
            "Epoch 2/5\n",
            "1563/1563 [==============================] - 140s 90ms/step - loss: 1.6229 - accuracy: 0.4277\n",
            "Epoch 3/5\n",
            "1563/1563 [==============================] - 155s 99ms/step - loss: 1.5419 - accuracy: 0.4570\n",
            "Epoch 4/5\n",
            "1563/1563 [==============================] - 157s 101ms/step - loss: 1.4802 - accuracy: 0.4776\n",
            "Epoch 5/5\n",
            "1563/1563 [==============================] - 152s 98ms/step - loss: 1.4339 - accuracy: 0.4932\n"
          ]
        },
        {
          "output_type": "execute_result",
          "data": {
            "text/plain": [
              "<keras.src.callbacks.History at 0x7996ab16bf10>"
            ]
          },
          "metadata": {},
          "execution_count": 23
        }
      ]
    },
    {
      "cell_type": "code",
      "source": [
        "from sklearn.metrics import confusion_matrix , classification_report\n",
        "import numpy as np\n",
        "y_pred = ann.predict(X_test)\n",
        "y_pred_classes = [np.argmax(element) for element in y_pred]\n",
        "\n",
        "print(\"Classification Report: \\n\", classification_report(y_test, y_pred_classes))"
      ],
      "metadata": {
        "colab": {
          "base_uri": "https://localhost:8080/"
        },
        "id": "zuY_uxG-wxsl",
        "outputId": "6cc18bc6-18fa-4940-a348-98c9a21e570d"
      },
      "execution_count": 24,
      "outputs": [
        {
          "output_type": "stream",
          "name": "stdout",
          "text": [
            "313/313 [==============================] - 8s 26ms/step\n",
            "Classification Report: \n",
            "               precision    recall  f1-score   support\n",
            "\n",
            "           0       0.73      0.35      0.47      1000\n",
            "           1       0.63      0.57      0.60      1000\n",
            "           2       0.39      0.31      0.35      1000\n",
            "           3       0.35      0.16      0.22      1000\n",
            "           4       0.52      0.27      0.36      1000\n",
            "           5       0.24      0.74      0.36      1000\n",
            "           6       0.58      0.40      0.48      1000\n",
            "           7       0.64      0.41      0.50      1000\n",
            "           8       0.59      0.65      0.62      1000\n",
            "           9       0.51      0.66      0.58      1000\n",
            "\n",
            "    accuracy                           0.45     10000\n",
            "   macro avg       0.52      0.45      0.45     10000\n",
            "weighted avg       0.52      0.45      0.45     10000\n",
            "\n"
          ]
        }
      ]
    },
    {
      "cell_type": "markdown",
      "source": [
        "Now let us build a convolutional neural network to train our images"
      ],
      "metadata": {
        "id": "WE8S8CNBxEhY"
      }
    },
    {
      "cell_type": "code",
      "source": [
        "cnn = models.Sequential([\n",
        "    layers.Conv2D(filters=32, kernel_size=(3, 3), activation='relu', input_shape=(32, 32, 3)),\n",
        "    layers.MaxPooling2D((2, 2)),\n",
        "\n",
        "    layers.Conv2D(filters=64, kernel_size=(3, 3), activation='relu'),\n",
        "    layers.MaxPooling2D((2, 2)),\n",
        "\n",
        "    layers.Flatten(),\n",
        "    layers.Dense(64, activation='relu'),\n",
        "    layers.Dense(10, activation='softmax')\n",
        "])"
      ],
      "metadata": {
        "id": "0q8buFYqxFxP"
      },
      "execution_count": 25,
      "outputs": []
    },
    {
      "cell_type": "code",
      "source": [
        "cnn.compile(optimizer='adam',\n",
        "              loss='sparse_categorical_crossentropy',\n",
        "              metrics=['accuracy'])"
      ],
      "metadata": {
        "id": "YN0grAIsxPAC"
      },
      "execution_count": 26,
      "outputs": []
    },
    {
      "cell_type": "code",
      "source": [
        "cnn.fit(X_train, y_train, epochs=10)"
      ],
      "metadata": {
        "colab": {
          "base_uri": "https://localhost:8080/"
        },
        "id": "skImW6ftyVbn",
        "outputId": "e4f1dddc-8749-46e6-db9c-8bbb40a0b871"
      },
      "execution_count": 27,
      "outputs": [
        {
          "output_type": "stream",
          "name": "stdout",
          "text": [
            "Epoch 1/10\n",
            "1563/1563 [==============================] - 64s 40ms/step - loss: 1.4633 - accuracy: 0.4762\n",
            "Epoch 2/10\n",
            "1563/1563 [==============================] - 58s 37ms/step - loss: 1.1184 - accuracy: 0.6050\n",
            "Epoch 3/10\n",
            "1563/1563 [==============================] - 65s 41ms/step - loss: 0.9939 - accuracy: 0.6516\n",
            "Epoch 4/10\n",
            "1563/1563 [==============================] - 57s 36ms/step - loss: 0.9139 - accuracy: 0.6812\n",
            "Epoch 5/10\n",
            "1563/1563 [==============================] - 56s 36ms/step - loss: 0.8530 - accuracy: 0.7048\n",
            "Epoch 6/10\n",
            "1563/1563 [==============================] - 55s 35ms/step - loss: 0.7975 - accuracy: 0.7228\n",
            "Epoch 7/10\n",
            "1563/1563 [==============================] - 55s 35ms/step - loss: 0.7470 - accuracy: 0.7417\n",
            "Epoch 8/10\n",
            "1563/1563 [==============================] - 64s 41ms/step - loss: 0.7065 - accuracy: 0.7551\n",
            "Epoch 9/10\n",
            "1563/1563 [==============================] - 56s 36ms/step - loss: 0.6668 - accuracy: 0.7680\n",
            "Epoch 10/10\n",
            "1563/1563 [==============================] - 57s 37ms/step - loss: 0.6312 - accuracy: 0.7797\n"
          ]
        },
        {
          "output_type": "execute_result",
          "data": {
            "text/plain": [
              "<keras.src.callbacks.History at 0x7996955938b0>"
            ]
          },
          "metadata": {},
          "execution_count": 27
        }
      ]
    },
    {
      "cell_type": "code",
      "source": [
        "cnn.evaluate(X_test,y_test)"
      ],
      "metadata": {
        "colab": {
          "base_uri": "https://localhost:8080/"
        },
        "id": "2C0u4mn8ybKr",
        "outputId": "986bace3-ac43-43e4-cce3-392102e5d476"
      },
      "execution_count": 28,
      "outputs": [
        {
          "output_type": "stream",
          "name": "stdout",
          "text": [
            "313/313 [==============================] - 3s 11ms/step - loss: 0.9243 - accuracy: 0.7001\n"
          ]
        },
        {
          "output_type": "execute_result",
          "data": {
            "text/plain": [
              "[0.9242792725563049, 0.7001000046730042]"
            ]
          },
          "metadata": {},
          "execution_count": 28
        }
      ]
    },
    {
      "cell_type": "code",
      "source": [
        "y_pred = cnn.predict(X_test)\n",
        "y_pred[:5]"
      ],
      "metadata": {
        "colab": {
          "base_uri": "https://localhost:8080/"
        },
        "id": "wc2b7v8Eybqk",
        "outputId": "fca1ac68-e033-4bbb-ce4f-a3ff6dd56da4"
      },
      "execution_count": 29,
      "outputs": [
        {
          "output_type": "stream",
          "name": "stdout",
          "text": [
            "313/313 [==============================] - 4s 13ms/step\n"
          ]
        },
        {
          "output_type": "execute_result",
          "data": {
            "text/plain": [
              "array([[2.1109325e-03, 3.5674970e-05, 5.9412206e-03, 7.7377468e-01,\n",
              "        1.6946128e-03, 2.4995588e-02, 1.8682975e-01, 8.0899626e-05,\n",
              "        4.5201136e-03, 1.6603792e-05],\n",
              "       [6.1851827e-04, 3.1935781e-02, 4.3519476e-06, 6.3978058e-07,\n",
              "        4.7274941e-07, 2.8981679e-08, 8.6588855e-08, 1.6249241e-09,\n",
              "        9.6550214e-01, 1.9380397e-03],\n",
              "       [1.6163221e-01, 5.2683871e-02, 2.6337747e-03, 4.2595170e-03,\n",
              "        1.8743634e-03, 2.1438130e-04, 2.9398821e-04, 2.7976141e-04,\n",
              "        7.6040989e-01, 1.5718209e-02],\n",
              "       [9.5396316e-01, 7.4439049e-03, 9.2174616e-03, 4.2026045e-04,\n",
              "        5.5416586e-04, 4.1522762e-06, 8.5797737e-06, 3.6508944e-05,\n",
              "        2.7880350e-02, 4.7134230e-04],\n",
              "       [4.3608402e-06, 3.0715776e-06, 5.9406646e-02, 3.4905761e-01,\n",
              "        2.0792387e-01, 2.8578013e-02, 3.5491559e-01, 3.1196341e-05,\n",
              "        7.9397032e-05, 1.0983546e-07]], dtype=float32)"
            ]
          },
          "metadata": {},
          "execution_count": 29
        }
      ]
    },
    {
      "cell_type": "code",
      "source": [
        "y_classes = [np.argmax(element) for element in y_pred]\n",
        "y_classes[:5]"
      ],
      "metadata": {
        "colab": {
          "base_uri": "https://localhost:8080/"
        },
        "id": "IE5pJKkbyd7a",
        "outputId": "8723dc2e-2290-42ef-b1a4-275c963cbe56"
      },
      "execution_count": 30,
      "outputs": [
        {
          "output_type": "execute_result",
          "data": {
            "text/plain": [
              "[3, 8, 8, 0, 6]"
            ]
          },
          "metadata": {},
          "execution_count": 30
        }
      ]
    },
    {
      "cell_type": "code",
      "source": [
        "y_test[:5]"
      ],
      "metadata": {
        "colab": {
          "base_uri": "https://localhost:8080/"
        },
        "id": "9802yJARygJ1",
        "outputId": "baa4fcce-9989-4c30-eafc-3815f10c47d5"
      },
      "execution_count": 31,
      "outputs": [
        {
          "output_type": "execute_result",
          "data": {
            "text/plain": [
              "array([3, 8, 8, 0, 6], dtype=uint8)"
            ]
          },
          "metadata": {},
          "execution_count": 31
        }
      ]
    },
    {
      "cell_type": "code",
      "source": [
        "plot_sample(X_test, y_test,3)"
      ],
      "metadata": {
        "colab": {
          "base_uri": "https://localhost:8080/",
          "height": 237
        },
        "id": "18aNzV1KyiIe",
        "outputId": "60fbfd56-a631-4969-de98-2037575e40a0"
      },
      "execution_count": 32,
      "outputs": [
        {
          "output_type": "display_data",
          "data": {
            "text/plain": [
              "<Figure size 1500x200 with 1 Axes>"
            ],
            "image/png": "[encoded data removed]"
          },
          "metadata": {}
        }
      ]
    },
    {
      "cell_type": "code",
      "source": [
        "classes[y_classes[3]]"
      ],
      "metadata": {
        "colab": {
          "base_uri": "https://localhost:8080/",
          "height": 35
        },
        "id": "ph3jX2Lyyktr",
        "outputId": "911b0f62-57b8-4ca7-d51e-ab2eaf41a4a2"
      },
      "execution_count": 33,
      "outputs": [
        {
          "output_type": "execute_result",
          "data": {
            "text/plain": [
              "'airplane'"
            ],
            "application/vnd.google.colaboratory.intrinsic+json": {
              "type": "string"
            }
          },
          "metadata": {},
          "execution_count": 33
        }
      ]
    },
    {
      "cell_type": "code",
      "source": [
        "classes[y_classes[3]]"
      ],
      "metadata": {
        "colab": {
          "base_uri": "https://localhost:8080/",
          "height": 35
        },
        "id": "WZTs6PEXypbg",
        "outputId": "f68c8a8d-1ea6-4e39-bc4f-25cace913122"
      },
      "execution_count": 34,
      "outputs": [
        {
          "output_type": "execute_result",
          "data": {
            "text/plain": [
              "'airplane'"
            ],
            "application/vnd.google.colaboratory.intrinsic+json": {
              "type": "string"
            }
          },
          "metadata": {},
          "execution_count": 34
        }
      ]
    },
    {
      "cell_type": "markdown",
      "source": [
        " <p style=\"color: #7e4a27;\">Singhsourav0 </p>"
      ],
      "metadata": {
        "id": "vk-AyFmq2XBs"
      }
    },
    {
      "cell_type": "code",
      "source": [],
      "metadata": {
        "id": "vRkQoIivyp1-"
      },
      "execution_count": null,
      "outputs": []
    }
  ],
  "metadata": {
    "colab": {
      "provenance": [],
      "authorship_tag": "ABX9TyOdDcKXziDbloWw4TxrDdXT",
      "include_colab_link": true
    },
    "kernelspec": {
      "display_name": "Python 3",
      "name": "python3"
    },
    "language_info": {
      "name": "python"
    }
  },
  "nbformat": 4,
  "nbformat_minor": 0
}
